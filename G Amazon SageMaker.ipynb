{
 "cells": [
  {
   "cell_type": "markdown",
   "metadata": {},
   "source": [
    "# [CPSC 310](https://github.com/GonzagaCPSC310) Data Mining\n",
    "[Gonzaga University](https://www.gonzaga.edu/)\n",
    "\n",
    "[Gina Sprint](http://cs.gonzaga.edu/faculty/sprint/)\n",
    "\n",
    "# Amazon SageMaker\n",
    "What are our learning objectives for this lesson?\n",
    "* Make an Amazon Web Services (AWS) account\n",
    "* Set up a Jupyter Notebook instance on Amazon SageMaker\n",
    "* Perform simple k-means clustering using SageMaker\n",
    "\n",
    "Content used in this lesson is based upon information in the following sources:\n",
    "* [Amazon SageMaker developer guide](https://docs.aws.amazon.com/sagemaker/latest/dg/whatis.html)"
   ]
  },
  {
   "cell_type": "markdown",
   "metadata": {},
   "source": [
    "## Warm-up Task(s)\n",
    "1. Make a [free AWS account](https://aws.amazon.com/free/?awsf.Free%20Tier%20Types=categories%23featured) if you don't already have one\n",
    "    * Later, you can get free AWS credits as a student through AWS Educate: https://aws.amazon.com/education/awseducate/ \n",
    "1. Go to console.aws.amazon.com and sign in to your account\n",
    "1. Make sure you have ClusteringFun/shirt_sizes.csv downloaded on your machine somewhere"
   ]
  },
  {
   "cell_type": "markdown",
   "metadata": {},
   "source": [
    "## Helpful Links\n",
    "* [Amazon SageMaker developer guide](https://docs.aws.amazon.com/sagemaker/latest/dg/whatis.html)\n",
    "* [Amazon E2 instance types](https://aws.amazon.com/ec2/instance-types/) and more specifically, [Amazon SageMaker ML instance types](https://aws.amazon.com/sagemaker/pricing/instance-types/)\n",
    "\n",
    "## Tips on Viewing the Algorithm Parameters\n",
    "This would be if you wanted to \"view your model.\" For k-means, this would be seeing the cluster centroids. This takes more work than I think it should because the `sagemaker.KMeans` class does not expose the centroids, it instead writes them to the model file, model.tar.gz\n",
    "\n",
    "* You'll need to create a training job using the low-level SDK for Python so you have the job_name in your code. See this part of the developer guide for how to do this: https://docs.aws.amazon.com/sagemaker/latest/dg/ex1-train-model-create-training-job.html\n",
    "    * I'll note that you could manually go to your S3 bucket and find the job name that was automatically used via `kmeans.fit(kmeans.record_set(train_set[0]))` of the high-level Python library. It will be the name of the folder storing a model.tar.gz file, something like `kmeans-2019-04-29-02-11-06-721`\n",
    "* You'll need to load the trained model via https://aws.amazon.com/blogs/machine-learning/analyze-us-census-data-for-population-segmentation-using-amazon-sagemaker/"
   ]
  }
 ],
 "metadata": {
  "anaconda-cloud": {},
  "kernelspec": {
   "display_name": "Python 3",
   "language": "python",
   "name": "python3"
  },
  "language_info": {
   "codemirror_mode": {
    "name": "ipython",
    "version": 3
   },
   "file_extension": ".py",
   "mimetype": "text/x-python",
   "name": "python",
   "nbconvert_exporter": "python",
   "pygments_lexer": "ipython3",
   "version": "3.7.1"
  }
 },
 "nbformat": 4,
 "nbformat_minor": 1
}
